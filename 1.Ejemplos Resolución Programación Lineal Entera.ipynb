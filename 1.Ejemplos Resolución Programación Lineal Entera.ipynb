{
 "cells": [
  {
   "cell_type": "markdown",
   "metadata": {},
   "source": [
    "# Problema 1 Apartado e)"
   ]
  },
  {
   "cell_type": "markdown",
   "metadata": {},
   "source": [
    "Vamos a resolver el problema mediante la función MixedIntegerLinearProgram(). En primer lugar crearemos una instancia p del problema con valores por defecto puesto que queremos maximizar y una variable x que será no entera y no negativa."
   ]
  },
  {
   "cell_type": "code",
   "execution_count": 3,
   "metadata": {},
   "outputs": [
    {
     "name": "stdout",
     "output_type": "stream",
     "text": [
      "Maximization:\n",
      "  5.0 x_0 + 4.0 x_1 \n",
      "\n",
      "Constraints:\n",
      "  6.0 x_0 + 4.0 x_1 <= 24.0\n",
      "  x_0 + 2.0 x_1 <= 6.0\n",
      "  - x_0 + x_1 <= 1.0\n",
      "  x_1 <= 2.0\n",
      "Variables:\n",
      "  x_0 is a continuous variable (min=0.0, max=+oo)\n",
      "  x_1 is a continuous variable (min=0.0, max=+oo)\n"
     ]
    }
   ],
   "source": [
    "p = MixedIntegerLinearProgram()\n",
    "x = p.new_variable(integer=False, nonnegative=True)\n",
    "#A continuación añadimo cada una de las condiciones a x1 y x2 indicadas en el enunciado.\n",
    "p.add_constraint(6*x[1]+4*x[2]<=24)\n",
    "p.add_constraint(x[1]+2*x[2]<=6)\n",
    "p.add_constraint(-1*x[1]+x[2]<=1)\n",
    "p.add_constraint(x[2]<=2)\n",
    "#Y marcamos al programa la función objetivo.\n",
    "p.set_objective(5*x[1]+4*x[2])\n",
    "p.show()"
   ]
  },
  {
   "cell_type": "markdown",
   "metadata": {},
   "source": [
    "Como podemos observar el método show() nos ordena los datos y los presenta de forma adecuada. Ya sólo queda usar la función solve() que resolverá nuestro problema y nos permitirá leer los valores dados a cada instancia de x."
   ]
  },
  {
   "cell_type": "code",
   "execution_count": 4,
   "metadata": {},
   "outputs": [
    {
     "name": "stdout",
     "output_type": "stream",
     "text": [
      "x_1 = 3.0\n",
      "x_2 = 1.5\n",
      "valor alcanzado: 21.0\n"
     ]
    }
   ],
   "source": [
    "sol = p.solve()\n",
    "for i, v in sorted(p.get_values(x).items()):\n",
    "     print('x_%s = %s' % (i, v))\n",
    "print(\"valor alcanzado:\",sol)        "
   ]
  },
  {
   "cell_type": "markdown",
   "metadata": {},
   "source": [
    "Efectivamente encontramos los mismos valores de maximización para x1 y x2 que cuando realizamos el ejercicio a mano. Igualmente el valor máximo alcanzado por la función es 21."
   ]
  },
  {
   "cell_type": "markdown",
   "metadata": {},
   "source": [
    "# Problema 4 Apartado a) y b)"
   ]
  },
  {
   "cell_type": "markdown",
   "metadata": {},
   "source": [
    "Vamos a resolver el problema mediante SAGE. Para ello, en primer lugar, incluiremos los datos como una tupla de pares relacionando coste y beneficio. Definiremos nuestra función por defecto puesto que vamos a maximizar y haremos que las variables de salida sean binarias:"
   ]
  },
  {
   "cell_type": "code",
   "execution_count": 115,
   "metadata": {},
   "outputs": [
    {
     "name": "stdout",
     "output_type": "stream",
     "text": [
      "Valor objetivo= 1090000.0\n",
      "y 1 = 1.0\n",
      "y 2 = 0.0\n",
      "y 3 = 1.0\n",
      "y 4 = 1.0\n",
      "y 5 = 0.0\n",
      "y 6 = 0.0\n",
      "y 7 = 1.0\n",
      "y 8 = 1.0\n"
     ]
    }
   ],
   "source": [
    "Datos=[(500,70000), (800,85000), (1000,120000), (2000,200000), (1500,160000), (2500,250000), (3500,400000), (3000,300000)]\n",
    "p4 = MixedIntegerLinearProgram()\n",
    "y = p4.new_variable(binary=True)\n",
    "#Condición de al menos 4 anuncios diarios\n",
    "p4.add_constraint(y[0]+y[1]+y[2]+y[3]+y[4]+y[5]+y[6]+y[7]>=4)\n",
    "#La suma de los costres no puede exceder 10000\n",
    "p4.add_constraint(p4.sum(Datos[j][0]*y[j] for j in range(len(Datos)))<=10000)\n",
    "#La función que maximizamos es la suma de los valores de benefico (audiencia) en la tupla de datos\n",
    "p4.set_objective(p4.sum(Datos[j][1]*y[j] for j in range(len(Datos))))\n",
    "#Resolvemos y presentamos datos\n",
    "print ('Valor objetivo=', p4.solve())\n",
    "sol=p4.get_values(y)\n",
    "for key in sorted(sol.keys()):\n",
    "    print ('y',key+1,'=',sol[key])"
   ]
  },
  {
   "cell_type": "markdown",
   "metadata": {},
   "source": [
    "Según el resultadfo anterior emitimos en las franjas 1,3,4,7 y 8 y conseguimos una audiencia de 1090000."
   ]
  },
  {
   "cell_type": "markdown",
   "metadata": {},
   "source": [
    "Podemos realizar el mismo problema anterior con una nomenclatura más sencilla para problemas de mochila:"
   ]
  },
  {
   "cell_type": "code",
   "execution_count": 10,
   "metadata": {},
   "outputs": [
    {
     "data": {
      "text/plain": [
       "[1090000.0,\n",
       " [(500, 70000),\n",
       "  (1000, 120000),\n",
       "  (2000, 200000),\n",
       "  (3500, 400000),\n",
       "  (3000, 300000)]]"
      ]
     },
     "execution_count": 10,
     "metadata": {},
     "output_type": "execute_result"
    }
   ],
   "source": [
    "from sage.numerical.knapsack import knapsack\n",
    "knapsack(Datos, max=10000)"
   ]
  },
  {
   "cell_type": "markdown",
   "metadata": {},
   "source": [
    "Y a continuación vamos a resolver el mismo problema añadiendo las restricciones del apartado b):"
   ]
  },
  {
   "cell_type": "code",
   "execution_count": 116,
   "metadata": {},
   "outputs": [
    {
     "name": "stdout",
     "output_type": "stream",
     "text": [
      "Valor objetivo= 1030000.0\n",
      "y 1 = 0.0\n",
      "y 2 = 0.0\n",
      "y 3 = 1.0\n",
      "y 4 = 1.0\n",
      "y 5 = 1.0\n",
      "y 6 = 1.0\n",
      "y 7 = 0.0\n",
      "y 8 = 1.0\n"
     ]
    }
   ],
   "source": [
    "Datos=[(500,70000), (800,85000), (1000,120000), (2000,200000), (1500,160000), (2500,250000), (3500,400000), (3000,300000)]\n",
    "p4 = MixedIntegerLinearProgram()\n",
    "y = p4.new_variable(binary=True)\n",
    "p4.add_constraint(y[0]+y[1]+y[2]+y[3]+y[4]+y[5]+y[6]+y[7]>=4)\n",
    "p4.add_constraint(p4.sum(Datos[j][0]*y[j] for j in range(len(Datos)))<=10000)\n",
    "#Si se emite un spot en la franja 7, deben quedar excluidas de spot las franjas 1, 4, 5, y 8.\n",
    "p4.add_constraint(y[6]-3*(1-y[6])<=1-y[0]-y[3]-y[4]-y[7])\n",
    "#SAGE no acepta los siguientes requisitos a la función porque contienen una multiplicación entre variables.\n",
    "#Si se emite un spot en alguna de las franjas 6 u 8, se debe emitir un spot tanto en la franja 1 como en la 3.\n",
    "#p4.add_constraint(y[5]+y[7]<=2*y[0]*y[2])\n",
    "#Si no se emite un spot en alguna de las franjas 4 o 5, tampoco se puede emitir en la franja 6.\n",
    "#p4.add_constraint(y[3]*y[4]>=y[5])\n",
    "p4.set_objective(p4.sum(Datos[j][1]*y[j] for j in range(len(Datos))))\n",
    "print ('Valor objetivo=', p4.solve())\n",
    "sol=p4.get_values(y)\n",
    "for key in sorted(sol.keys()):\n",
    "    print ('y',key+1,'=',sol[key])"
   ]
  },
  {
   "cell_type": "markdown",
   "metadata": {},
   "source": [
    "SAGE muestra un error si el la condición se están multiplicando dos variables, es por ello que se han comentado las condiciones no permitidas aunque en el pdf puede comprobarse que estas condiciones serían válidas en un principio. Aún con ello la restricción que hemos podido añadir ha modificado la respuesta anterior puesto que la franja 7 ya no es usada y es sustituida por otras."
   ]
  },
  {
   "cell_type": "markdown",
   "metadata": {},
   "source": [
    "# Problema 5 Apartado b)"
   ]
  },
  {
   "cell_type": "markdown",
   "metadata": {},
   "source": [
    "Vamos a resolver el problema mediante SAGE. Tendremos la cantidad de producto 'x' que será entera y positiva y el factor 'y' binario que determina si una máquina ha sido usada o no:"
   ]
  },
  {
   "cell_type": "code",
   "execution_count": 118,
   "metadata": {},
   "outputs": [
    {
     "name": "stdout",
     "output_type": "stream",
     "text": [
      "Maximization:\n",
      "  60.0 x_0 -200.0 x_1 + 40.0 x_2 -150.0 x_3 + 70.0 x_4 -100.0 x_5 \n",
      "\n",
      "Constraints:\n",
      "  x_0 - 5.0 x_1 <= 0.0\n",
      "  x_2 - 10.0 x_3 <= 0.0\n",
      "  x_4 - 6.0 x_5 <= 0.0\n",
      "  30.0 x_0 + 20.0 x_2 + 40.0 x_4 <= 200.0\n",
      "  4.0 x_0 + 3.0 x_2 + 4.0 x_4 <= 30.0\n",
      "  x_0 <= 5.0\n",
      "  x_2 <= 10.0\n",
      "  x_4 <= 6.0\n",
      "Variables:\n",
      "  x_0 is an integer variable (min=0.0, max=+oo)\n",
      "  x_1 is a boolean variable (min=0.0, max=1.0)\n",
      "  x_2 is an integer variable (min=0.0, max=+oo)\n",
      "  x_3 is a boolean variable (min=0.0, max=1.0)\n",
      "  x_4 is an integer variable (min=0.0, max=+oo)\n",
      "  x_5 is a boolean variable (min=0.0, max=1.0)\n"
     ]
    }
   ],
   "source": [
    "p = MixedIntegerLinearProgram()\n",
    "x = p.new_variable(integer=True, nonnegative=True)\n",
    "y = p.new_variable(binary=True)\n",
    "#Si elegimos un valor mayor que 0 para alguna x, su respectiva y debe ser mayor que 0:\n",
    "p.add_constraint(x[0]<=y[0]*5)\n",
    "p.add_constraint(x[1]<=y[1]*10)\n",
    "p.add_constraint(x[2]<=y[2]*6)\n",
    "#Restricción de número total de horas:\n",
    "p.add_constraint(30*x[0]+20*x[1]+40*x[2]<=200)\n",
    "#Restricción de número total de kilos de materia prima:\n",
    "p.add_constraint(4*x[0]+3*x[1]+4*x[2]<=30)\n",
    "#Restricciones de cantidad máxima de unidades de cada tipo que pueden generarse:\n",
    "p.add_constraint(x[0]<=5)\n",
    "p.add_constraint(x[1]<=10)\n",
    "p.add_constraint(x[2]<=6)\n",
    "#Y marcamos al programa la función objetivo.\n",
    "p.set_objective(60*x[0]+40*x[1]+70*x[2]-200*y[0]-150*y[1]-100*y[2])\n",
    "p.show()"
   ]
  },
  {
   "cell_type": "code",
   "execution_count": 122,
   "metadata": {},
   "outputs": [
    {
     "name": "stdout",
     "output_type": "stream",
     "text": [
      "x_1 = 0.0\n",
      "x_2 = 10.0\n",
      "x_3 = 0.0\n",
      "valor alcanzado: 250.0\n",
      "y_1 = 0.0\n",
      "y_2 = 1.0\n",
      "y_3 = 0.0\n"
     ]
    }
   ],
   "source": [
    "sol = p.solve()\n",
    "for i, v in sorted(p.get_values(x).items()):\n",
    "     print('x_%s = %s' % (i+1, v))\n",
    "print(\"valor alcanzado:\",sol)  \n",
    "\n",
    "for i, v in sorted(p.get_values(y).items()):\n",
    "     print('y_%s = %s' % (i+1, v))\n",
    "  "
   ]
  },
  {
   "cell_type": "markdown",
   "metadata": {},
   "source": [
    "Como podemos observar se generarán 10 unidades del producto B y habrá un beneficio total de 250€. De forma concordante la única 'y' con valor 1 es y2, que relaciona al producto B e indica que se ha usado el tipo de máquina necesaria para generar B. No se han usado máquinas para generar producto A ó C."
   ]
  },
  {
   "cell_type": "markdown",
   "metadata": {},
   "source": [
    "# Problema 7 Apartado a) y b)"
   ]
  },
  {
   "cell_type": "markdown",
   "metadata": {},
   "source": [
    "Vamos a resolver el problemas mediante SAGE:"
   ]
  },
  {
   "cell_type": "code",
   "execution_count": 131,
   "metadata": {},
   "outputs": [
    {
     "name": "stdout",
     "output_type": "stream",
     "text": [
      "Minimization:\n",
      "  150.0 x_0 + 200.0 x_1 + 200.0 x_2 + 266.6666666666667 x_3 + 233.33333333333334 x_4 + 266.6666666666667 x_5 + 300.0 x_6 + 333.3333333333333 x_7 + 187.5 x_8 + 250.0 x_9 + 250.0 x_10 + 333.3333333333333 x_11 + 291.6666666666667 x_12 + 333.3333333333333 x_13 + 375.0 x_14 + 416.6666666666667 x_15 \n",
      "\n",
      "Constraints:\n",
      "  45.0 x_0 + 60.0 x_1 + 60.0 x_2 + 80.0 x_3 + 70.0 x_4 + 80.0 x_5 + 90.0 x_6 + 100.0 x_7 <= 300.0\n",
      "  45.0 x_8 + 60.0 x_9 + 60.0 x_10 + 80.0 x_11 + 70.0 x_12 + 80.0 x_13 + 90.0 x_14 + 100.0 x_15 <= 300.0\n",
      "  - x_0 - x_8 <= -1.0\n",
      "  - x_1 - x_9 <= -1.0\n",
      "  - x_2 - x_10 <= -1.0\n",
      "  - x_3 - x_11 <= -1.0\n",
      "  - x_4 - x_12 <= -1.0\n",
      "  - x_5 - x_13 <= -1.0\n",
      "  - x_6 - x_14 <= -1.0\n",
      "  - x_7 - x_15 <= -1.0\n",
      "Variables:\n",
      "  x_0 is a boolean variable (min=0.0, max=1.0)\n",
      "  x_1 is a boolean variable (min=0.0, max=1.0)\n",
      "  x_2 is a boolean variable (min=0.0, max=1.0)\n",
      "  x_3 is a boolean variable (min=0.0, max=1.0)\n",
      "  x_4 is a boolean variable (min=0.0, max=1.0)\n",
      "  x_5 is a boolean variable (min=0.0, max=1.0)\n",
      "  x_6 is a boolean variable (min=0.0, max=1.0)\n",
      "  x_7 is a boolean variable (min=0.0, max=1.0)\n",
      "  x_8 is a boolean variable (min=0.0, max=1.0)\n",
      "  x_9 is a boolean variable (min=0.0, max=1.0)\n",
      "  x_10 is a boolean variable (min=0.0, max=1.0)\n",
      "  x_11 is a boolean variable (min=0.0, max=1.0)\n",
      "  x_12 is a boolean variable (min=0.0, max=1.0)\n",
      "  x_13 is a boolean variable (min=0.0, max=1.0)\n",
      "  x_14 is a boolean variable (min=0.0, max=1.0)\n",
      "  x_15 is a boolean variable (min=0.0, max=1.0)\n"
     ]
    }
   ],
   "source": [
    "p = MixedIntegerLinearProgram(maximization=False)\n",
    "x = p.new_variable(binary=True)\n",
    "y = p.new_variable(binary=True)\n",
    "\n",
    "#Restricciones de tiempo 5 horas = 300 minutos\n",
    "p.add_constraint(45*x[0] + 60*x[1] + 60*x[2] + 80*x[3] + 70*x[4] + 80*x[5] + 90*x[6] + 100*x[7]<=300)\n",
    "p.add_constraint(45*y[0] + 60*y[1] + 60*y[2] + 80*y[3] + 70*y[4] + 80*y[5] + 90*y[6] + 100*y[7]<=300)\n",
    "#Restricciones para que no coincida el mismo curso 2 días\n",
    "p.add_constraint(x[0]+y[0]>=1)\n",
    "p.add_constraint(x[1]+y[1]>=1)\n",
    "p.add_constraint(x[2]+y[2]>=1)\n",
    "p.add_constraint(x[3]+y[3]>=1)\n",
    "p.add_constraint(x[4]+y[4]>=1)\n",
    "p.add_constraint(x[5]+y[5]>=1)\n",
    "p.add_constraint(x[6]+y[6]>=1)\n",
    "p.add_constraint(x[7]+y[7]>=1)\n",
    "\n",
    "#Y marcamos al programa la función objetivo.\n",
    "p.set_objective((45*x[0] + 60*x[1] + 60*x[2] + 80*x[3] + 70*x[4] + 80*x[5] + 90*x[6] + 100*x[7])*200/60 + (45*y[0] + 60*y[1] + 60*y[2] + 80*y[3] + 70*y[4] + 80*y[5] + 90*y[6] + 100*y[7])*250/60)\n",
    "\n",
    "p.show()"
   ]
  },
  {
   "cell_type": "code",
   "execution_count": 133,
   "metadata": {},
   "outputs": [
    {
     "name": "stdout",
     "output_type": "stream",
     "text": [
      "x_1 = 0.0\n",
      "x_2 = 1.0\n",
      "x_3 = 1.0\n",
      "x_4 = 1.0\n",
      "x_5 = 0.0\n",
      "x_6 = 0.0\n",
      "x_7 = 0.0\n",
      "x_8 = 1.0\n",
      "y_1 = 1.0\n",
      "y_2 = 0.0\n",
      "y_3 = 0.0\n",
      "y_4 = 0.0\n",
      "y_5 = 1.0\n",
      "y_6 = 1.0\n",
      "y_7 = 1.0\n",
      "y_8 = 0.0\n",
      "valor alcanzado: 2187.5\n"
     ]
    }
   ],
   "source": [
    "sol = p.solve()\n",
    "for i, v in sorted(p.get_values(x).items()):\n",
    "     print('x_%s = %s' % (i+1, v))\n",
    "\n",
    "for i, v in sorted(p.get_values(y).items()):\n",
    "     print('y_%s = %s' % (i+1, v))\n",
    "print(\"valor alcanzado:\",sol)"
   ]
  },
  {
   "cell_type": "markdown",
   "metadata": {},
   "source": [
    "Como podemos observar tendremos los cursos 2,3,4 y 8 el sábado. Los cursos 1,5,6 y 7 el domingo. El coste será de 2187.5€"
   ]
  },
  {
   "cell_type": "markdown",
   "metadata": {},
   "source": [
    "Ahora añadamos las restricciones del siguiente apartado:"
   ]
  },
  {
   "cell_type": "code",
   "execution_count": 134,
   "metadata": {},
   "outputs": [
    {
     "name": "stdout",
     "output_type": "stream",
     "text": [
      "Minimization:\n",
      "  150.0 x_0 + 200.0 x_1 + 200.0 x_2 + 266.6666666666667 x_3 + 233.33333333333334 x_4 + 266.6666666666667 x_5 + 300.0 x_6 + 333.3333333333333 x_7 + 187.5 x_8 + 250.0 x_9 + 250.0 x_10 + 333.3333333333333 x_11 + 291.6666666666667 x_12 + 333.3333333333333 x_13 + 375.0 x_14 + 416.6666666666667 x_15 \n",
      "\n",
      "Constraints:\n",
      "  45.0 x_0 + 60.0 x_1 + 60.0 x_2 + 80.0 x_3 + 70.0 x_4 + 80.0 x_5 + 90.0 x_6 + 100.0 x_7 <= 300.0\n",
      "  45.0 x_8 + 60.0 x_9 + 60.0 x_10 + 80.0 x_11 + 70.0 x_12 + 80.0 x_13 + 90.0 x_14 + 100.0 x_15 <= 300.0\n",
      "  - x_0 - x_8 <= -1.0\n",
      "  - x_1 - x_9 <= -1.0\n",
      "  - x_2 - x_10 <= -1.0\n",
      "  - x_3 - x_11 <= -1.0\n",
      "  - x_4 - x_12 <= -1.0\n",
      "  - x_5 - x_13 <= -1.0\n",
      "  - x_6 - x_14 <= -1.0\n",
      "  - x_7 - x_15 <= -1.0\n",
      "  - x_0 - x_1 - x_3 - x_7 <= -2.0\n",
      "  - x_8 - x_9 - x_11 - x_15 <= -2.0\n",
      "  - x_3 - x_4 - x_5 - x_7 <= -1.0\n",
      "  - x_0 - x_1 - x_2 - x_6 - x_7 <= -1.0\n",
      "Variables:\n",
      "  x_0 is a boolean variable (min=0.0, max=1.0)\n",
      "  x_1 is a boolean variable (min=0.0, max=1.0)\n",
      "  x_2 is a boolean variable (min=0.0, max=1.0)\n",
      "  x_3 is a boolean variable (min=0.0, max=1.0)\n",
      "  x_4 is a boolean variable (min=0.0, max=1.0)\n",
      "  x_5 is a boolean variable (min=0.0, max=1.0)\n",
      "  x_6 is a boolean variable (min=0.0, max=1.0)\n",
      "  x_7 is a boolean variable (min=0.0, max=1.0)\n",
      "  x_8 is a boolean variable (min=0.0, max=1.0)\n",
      "  x_9 is a boolean variable (min=0.0, max=1.0)\n",
      "  x_10 is a boolean variable (min=0.0, max=1.0)\n",
      "  x_11 is a boolean variable (min=0.0, max=1.0)\n",
      "  x_12 is a boolean variable (min=0.0, max=1.0)\n",
      "  x_13 is a boolean variable (min=0.0, max=1.0)\n",
      "  x_14 is a boolean variable (min=0.0, max=1.0)\n",
      "  x_15 is a boolean variable (min=0.0, max=1.0)\n"
     ]
    }
   ],
   "source": [
    "p = MixedIntegerLinearProgram(maximization=False)\n",
    "x = p.new_variable(binary=True)\n",
    "y = p.new_variable(binary=True)\n",
    "\n",
    "p.add_constraint(45*x[0] + 60*x[1] + 60*x[2] + 80*x[3] + 70*x[4] + 80*x[5] + 90*x[6] + 100*x[7]<=300)\n",
    "p.add_constraint(45*y[0] + 60*y[1] + 60*y[2] + 80*y[3] + 70*y[4] + 80*y[5] + 90*y[6] + 100*y[7]<=300)\n",
    "p.add_constraint(x[0]+y[0]>=1)\n",
    "p.add_constraint(x[1]+y[1]>=1)\n",
    "p.add_constraint(x[2]+y[2]>=1)\n",
    "p.add_constraint(x[3]+y[3]>=1)\n",
    "p.add_constraint(x[4]+y[4]>=1)\n",
    "p.add_constraint(x[5]+y[5]>=1)\n",
    "p.add_constraint(x[6]+y[6]>=1)\n",
    "p.add_constraint(x[7]+y[7]>=1)\n",
    "#Cada día debe tener exactamente dos talleres de software.\n",
    "p.add_constraint(x[0]+x[1]+x[3]+x[7]>=2)\n",
    "p.add_constraint(y[0]+y[1]+y[3]+y[7]>=2)\n",
    "#El sábado debe tener al menos un taller de hardware, y ademas contener alguno de los talleres entre software y ciberseguridad.\n",
    "p.add_constraint(x[3]+x[4]+x[5]+x[7]>=1)\n",
    "p.add_constraint(x[0]+x[1]+x[2]+x[6]+x[7]>=1)\n",
    "\n",
    "#De nuevo SAGE da problemas si en la condición se multiplican variables.\n",
    "#Si los talleres 2, 4 y 5 están en uno de los días, los talleres 4 y 8 deben estar en el otro día.\n",
    "#p.add_constraint(x[1]+x[3]+x[4]<=3+(x[3]*x[7])-x[3]-x[7])\n",
    "\n",
    "#Y marcamos al programa la función objetivo.\n",
    "p.set_objective((45*x[0] + 60*x[1] + 60*x[2] + 80*x[3] + 70*x[4] + 80*x[5] + 90*x[6] + 100*x[7])*200/60 + (45*y[0] + 60*y[1] + 60*y[2] + 80*y[3] + 70*y[4] + 80*y[5] + 90*y[6] + 100*y[7])*250/60)\n",
    "\n",
    "p.show()"
   ]
  },
  {
   "cell_type": "code",
   "execution_count": 135,
   "metadata": {},
   "outputs": [
    {
     "name": "stdout",
     "output_type": "stream",
     "text": [
      "x_1 = 0.0\n",
      "x_2 = 1.0\n",
      "x_3 = 1.0\n",
      "x_4 = 0.0\n",
      "x_5 = 0.0\n",
      "x_6 = 1.0\n",
      "x_7 = 0.0\n",
      "x_8 = 1.0\n",
      "y_1 = 1.0\n",
      "y_2 = 0.0\n",
      "y_3 = 0.0\n",
      "y_4 = 1.0\n",
      "y_5 = 1.0\n",
      "y_6 = 0.0\n",
      "y_7 = 1.0\n",
      "y_8 = 0.0\n",
      "valor alcanzado: 2187.5\n"
     ]
    }
   ],
   "source": [
    "sol = p.solve()\n",
    "for i, v in sorted(p.get_values(x).items()):\n",
    "     print('x_%s = %s' % (i+1, v))\n",
    "\n",
    "for i, v in sorted(p.get_values(y).items()):\n",
    "     print('y_%s = %s' % (i+1, v))\n",
    "print(\"valor alcanzado:\",sol)"
   ]
  },
  {
   "cell_type": "markdown",
   "metadata": {},
   "source": [
    "Como podemos observar con las nuevas restricciones tendremos los cursos 2,3,6 y 8 el sábado. Los cursos 1,4,5 y 7 el domingo. El coste será de 2187.5€"
   ]
  }
 ],
 "metadata": {
  "kernelspec": {
   "display_name": "SageMath 9.1",
   "language": "sage",
   "name": "sagemath"
  },
  "language_info": {
   "codemirror_mode": {
    "name": "ipython",
    "version": 3
   },
   "file_extension": ".py",
   "mimetype": "text/x-python",
   "name": "python",
   "nbconvert_exporter": "python",
   "pygments_lexer": "ipython3",
   "version": "3.7.3"
  }
 },
 "nbformat": 4,
 "nbformat_minor": 2
}
